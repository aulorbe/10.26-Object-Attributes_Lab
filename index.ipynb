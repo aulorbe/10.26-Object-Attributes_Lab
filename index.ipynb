{
 "cells": [
  {
   "cell_type": "markdown",
   "metadata": {},
   "source": [
    "# Object Attributes - Lab"
   ]
  },
  {
   "cell_type": "markdown",
   "metadata": {},
   "source": [
    "## Introduction\n",
    "In this lab, we will practice defining classes and instance methods. We will also practice working with getter and setter (read and write) methods using properties and decorators to operate on instance variables."
   ]
  },
  {
   "cell_type": "markdown",
   "metadata": {},
   "source": [
    "## Objectives\n",
    "\n",
    "You will be able to:\n",
    "\n",
    "* Practice defining classes and instantiating instances of those classes\n",
    "* Practice defining instance methods"
   ]
  },
  {
   "cell_type": "markdown",
   "metadata": {},
   "source": [
    "## Defining Classes and Instance Methods"
   ]
  },
  {
   "cell_type": "markdown",
   "metadata": {},
   "source": [
    "In the cells below define a `Driver` class and define a `Passenger` class.\n",
    "\n",
    "Our driver instance objects should have instance variables for first name, last name, miles driven, and rating. We can name these instance variables `_first`, `_last` (short for first and last name), `_miles_driven`, and `_rating`. We will want to be able to access, change, and delete these values using the appropriate properties. \n",
    "\n",
    "After defining the above instance methods, define an instance method called `greet_passenger`, which returns the string `Hello! I'll be your driver today. My name is ` followed by that driver's first name and last name (i.e. `Hello! I'll be your driver today. My name is John Doe`)."
   ]
  },
  {
   "cell_type": "code",
   "execution_count": 21,
   "metadata": {},
   "outputs": [],
   "source": [
    "class Driver:\n",
    "    def identify_driver(self, first, last):\n",
    "        self._first = first\n",
    "        self._last = last\n",
    "        \n",
    "    def miles_driven(self):\n",
    "        pass\n",
    "    \n",
    "    def rating(self):\n",
    "        pass\n",
    "    \n",
    "    def greet_passenger(self):\n",
    "        return f'Hello! I\\'ll be your driver today. My name is {self.first} {self.last}'\n",
    "\n"
   ]
  },
  {
   "cell_type": "code",
   "execution_count": 22,
   "metadata": {},
   "outputs": [
    {
     "name": "stdout",
     "output_type": "stream",
     "text": [
      "Rachel\n",
      "Jensen\n",
      "100\n",
      "4.9\n"
     ]
    },
    {
     "data": {
      "text/plain": [
       "\"Hello! I'll be your driver today. My name is Rachel Jensen\""
      ]
     },
     "execution_count": 22,
     "metadata": {},
     "output_type": "execute_result"
    }
   ],
   "source": [
    "driver = Driver()\n",
    "driver.first = \"Rachel\"\n",
    "driver.last = \"Jensen\"\n",
    "driver.miles_driven = 100\n",
    "driver.rating = 4.9\n",
    "print(driver.first) # \"Rachel\"\n",
    "print(driver.last) # \"Jensen\"\n",
    "print(driver.miles_driven) # 100\n",
    "print(driver.rating) # 4.9\n",
    "driver.greet_passenger() # Hello! I'll be your driver today. My name is Rachel Jensen"
   ]
  },
  {
   "cell_type": "markdown",
   "metadata": {},
   "source": [
    "In the `Passenger` class, we will want our passenger instance objects to have the attributes first name, last name, and email. Let's continue using the leading underscore naming convention we employed in our `Driver` class and name these instance variables `_first`, `_last`, and `_email`. Define the appropriate instance methods using property and the appropriate decorators for reading (getting), writing (setting), and deleting instance variables. \n",
    "\n",
    "Next, we want to define an instance method called `yell_name` which returns a string with the passengers name in all caps (i.e. \"RON BURGUNDY\"). "
   ]
  },
  {
   "cell_type": "code",
   "execution_count": 63,
   "metadata": {},
   "outputs": [],
   "source": [
    "class Passenger:\n",
    "    def __init__(self,first,last):\n",
    "        self.first = first\n",
    "        self.last = last\n",
    "        \n",
    "#### FIRST NAME STUFF ####\n",
    "    def get_first(self):\n",
    "        return self._first\n",
    "    \n",
    "    def set_first(self,first):\n",
    "        if type(first) != str:\n",
    "            return 'Not valid value!'\n",
    "        self._first = first\n",
    "    \n",
    "    def del_first(self):\n",
    "        del self._first \n",
    "    \n",
    "    first1 = property(get_first,set_first,del_first)  \n",
    "\n",
    "#### LAST NAME STUFF ####\n",
    "    @property\n",
    "    def last(self):\n",
    "        return self._last\n",
    "    \n",
    "    @last.setter\n",
    "    def last(self,last):\n",
    "        if type(last) != str:\n",
    "            return 'Not valid value!'\n",
    "        self._last = last\n",
    "        \n",
    "    @last.deleter\n",
    "    def last(self):\n",
    "        del self._last \n",
    "        \n",
    "#     last1 = property(get_last,set_last,del_last) \n",
    "        \n",
    "\n",
    "#### EMAIL STUFF ####\n",
    "    def get_email(self):\n",
    "        return self._email\n",
    "\n",
    "    def set_email(self, email):\n",
    "        self._email = email\n",
    "\n",
    "    def del_email(self):\n",
    "        del self._email\n",
    "\n",
    "    email1 = property(get_email, set_email, del_email)\n",
    "       \n",
    "\n",
    "####\n",
    "\n",
    "    def yell_name(self):\n",
    "        return (f'{self.first} {self.last}').upper()"
   ]
  },
  {
   "cell_type": "code",
   "execution_count": 64,
   "metadata": {},
   "outputs": [],
   "source": [
    "b = Passenger('forest','polchow')"
   ]
  },
  {
   "cell_type": "code",
   "execution_count": 65,
   "metadata": {},
   "outputs": [
    {
     "data": {
      "text/plain": [
       "'forest'"
      ]
     },
     "execution_count": 65,
     "metadata": {},
     "output_type": "execute_result"
    }
   ],
   "source": [
    "b.first"
   ]
  },
  {
   "cell_type": "code",
   "execution_count": 26,
   "metadata": {},
   "outputs": [
    {
     "name": "stdout",
     "output_type": "stream",
     "text": [
      "Ron\n",
      "Burgundy\n",
      "ron.burgundy1984@gmail.com\n"
     ]
    },
    {
     "data": {
      "text/plain": [
       "'RON BURGUNDY'"
      ]
     },
     "execution_count": 26,
     "metadata": {},
     "output_type": "execute_result"
    }
   ],
   "source": [
    "passenger = Passenger()\n",
    "passenger.first = \"Ron\"\n",
    "passenger.last = \"Burgundy\"\n",
    "passenger.email = \"ron.burgundy1984@gmail.com\"\n",
    "print(passenger.first) # \"Ron\"\n",
    "print(passenger.last) # \"Burgundy\"\n",
    "print(passenger.email) # \"ron.burgundy1984@gmail.com\"\n",
    "passenger.yell_name() # \"RON BURGUNDY\""
   ]
  },
  {
   "cell_type": "code",
   "execution_count": 56,
   "metadata": {},
   "outputs": [],
   "source": [
    "passenger1 = Passenger()"
   ]
  },
  {
   "cell_type": "code",
   "execution_count": 57,
   "metadata": {},
   "outputs": [],
   "source": [
    "passenger1.last = 10"
   ]
  },
  {
   "cell_type": "code",
   "execution_count": 59,
   "metadata": {},
   "outputs": [
    {
     "ename": "AttributeError",
     "evalue": "'Passenger' object has no attribute '_last'",
     "output_type": "error",
     "traceback": [
      "\u001b[0;31m---------------------------------------------------------------------------\u001b[0m",
      "\u001b[0;31mAttributeError\u001b[0m                            Traceback (most recent call last)",
      "\u001b[0;32m<ipython-input-59-fdf92558353a>\u001b[0m in \u001b[0;36m<module>\u001b[0;34m()\u001b[0m\n\u001b[0;32m----> 1\u001b[0;31m \u001b[0mpassenger1\u001b[0m\u001b[0;34m.\u001b[0m\u001b[0mlast\u001b[0m\u001b[0;34m\u001b[0m\u001b[0m\n\u001b[0m",
      "\u001b[0;32m<ipython-input-55-a1c1a83c1750>\u001b[0m in \u001b[0;36mlast\u001b[0;34m(self)\u001b[0m\n\u001b[1;32m     18\u001b[0m     \u001b[0;34m@\u001b[0m\u001b[0mproperty\u001b[0m\u001b[0;34m\u001b[0m\u001b[0m\n\u001b[1;32m     19\u001b[0m     \u001b[0;32mdef\u001b[0m \u001b[0mlast\u001b[0m\u001b[0;34m(\u001b[0m\u001b[0mself\u001b[0m\u001b[0;34m)\u001b[0m\u001b[0;34m:\u001b[0m\u001b[0;34m\u001b[0m\u001b[0m\n\u001b[0;32m---> 20\u001b[0;31m         \u001b[0;32mreturn\u001b[0m \u001b[0mself\u001b[0m\u001b[0;34m.\u001b[0m\u001b[0m_last\u001b[0m\u001b[0;34m\u001b[0m\u001b[0m\n\u001b[0m\u001b[1;32m     21\u001b[0m \u001b[0;34m\u001b[0m\u001b[0m\n\u001b[1;32m     22\u001b[0m     \u001b[0;34m@\u001b[0m\u001b[0mlast\u001b[0m\u001b[0;34m.\u001b[0m\u001b[0msetter\u001b[0m\u001b[0;34m\u001b[0m\u001b[0m\n",
      "\u001b[0;31mAttributeError\u001b[0m: 'Passenger' object has no attribute '_last'"
     ]
    }
   ],
   "source": [
    "passenger1.last"
   ]
  },
  {
   "cell_type": "code",
   "execution_count": 62,
   "metadata": {},
   "outputs": [
    {
     "ename": "AttributeError",
     "evalue": "'Passenger' object has no attribute '_first'",
     "output_type": "error",
     "traceback": [
      "\u001b[0;31m---------------------------------------------------------------------------\u001b[0m",
      "\u001b[0;31mAttributeError\u001b[0m                            Traceback (most recent call last)",
      "\u001b[0;32m<ipython-input-62-c16322ff931b>\u001b[0m in \u001b[0;36m<module>\u001b[0;34m()\u001b[0m\n\u001b[0;32m----> 1\u001b[0;31m \u001b[0mpassenger1\u001b[0m\u001b[0;34m.\u001b[0m\u001b[0m_first\u001b[0m\u001b[0;34m\u001b[0m\u001b[0m\n\u001b[0m",
      "\u001b[0;31mAttributeError\u001b[0m: 'Passenger' object has no attribute '_first'"
     ]
    }
   ],
   "source": [
    "passenger1._first"
   ]
  },
  {
   "cell_type": "code",
   "execution_count": 33,
   "metadata": {},
   "outputs": [],
   "source": [
    "passenger.first = 10"
   ]
  },
  {
   "cell_type": "code",
   "execution_count": 35,
   "metadata": {},
   "outputs": [
    {
     "data": {
      "text/plain": [
       "10"
      ]
     },
     "execution_count": 35,
     "metadata": {},
     "output_type": "execute_result"
    }
   ],
   "source": [
    "passenger.first"
   ]
  },
  {
   "cell_type": "code",
   "execution_count": 39,
   "metadata": {},
   "outputs": [
    {
     "data": {
      "text/plain": [
       "['__class__',\n",
       " '__delattr__',\n",
       " '__dict__',\n",
       " '__dir__',\n",
       " '__doc__',\n",
       " '__eq__',\n",
       " '__format__',\n",
       " '__ge__',\n",
       " '__getattribute__',\n",
       " '__gt__',\n",
       " '__hash__',\n",
       " '__init__',\n",
       " '__init_subclass__',\n",
       " '__le__',\n",
       " '__lt__',\n",
       " '__module__',\n",
       " '__ne__',\n",
       " '__new__',\n",
       " '__reduce__',\n",
       " '__reduce_ex__',\n",
       " '__repr__',\n",
       " '__setattr__',\n",
       " '__sizeof__',\n",
       " '__str__',\n",
       " '__subclasshook__',\n",
       " '__weakref__',\n",
       " 'del_email',\n",
       " 'del_first',\n",
       " 'del_last',\n",
       " 'email1',\n",
       " 'first1',\n",
       " 'get_email',\n",
       " 'get_first',\n",
       " 'get_last',\n",
       " 'last1',\n",
       " 'set_email',\n",
       " 'set_first',\n",
       " 'set_last',\n",
       " 'yell_name']"
      ]
     },
     "execution_count": 39,
     "metadata": {},
     "output_type": "execute_result"
    }
   ],
   "source": [
    "dir(passenger1)"
   ]
  },
  {
   "cell_type": "code",
   "execution_count": 40,
   "metadata": {},
   "outputs": [],
   "source": [
    "passenger1.set_last = 'bozo'"
   ]
  },
  {
   "cell_type": "code",
   "execution_count": 45,
   "metadata": {},
   "outputs": [
    {
     "data": {
      "text/plain": [
       "['__class__',\n",
       " '__delattr__',\n",
       " '__dict__',\n",
       " '__dir__',\n",
       " '__doc__',\n",
       " '__eq__',\n",
       " '__format__',\n",
       " '__ge__',\n",
       " '__getattribute__',\n",
       " '__gt__',\n",
       " '__hash__',\n",
       " '__init__',\n",
       " '__init_subclass__',\n",
       " '__le__',\n",
       " '__lt__',\n",
       " '__module__',\n",
       " '__ne__',\n",
       " '__new__',\n",
       " '__reduce__',\n",
       " '__reduce_ex__',\n",
       " '__repr__',\n",
       " '__setattr__',\n",
       " '__sizeof__',\n",
       " '__str__',\n",
       " '__subclasshook__',\n",
       " '__weakref__',\n",
       " 'del_email',\n",
       " 'del_first',\n",
       " 'del_last',\n",
       " 'email1',\n",
       " 'first1',\n",
       " 'get_email',\n",
       " 'get_first',\n",
       " 'get_last',\n",
       " 'last1',\n",
       " 'set_email',\n",
       " 'set_first',\n",
       " 'set_last',\n",
       " 'yell_name']"
      ]
     },
     "execution_count": 45,
     "metadata": {},
     "output_type": "execute_result"
    }
   ],
   "source": [
    "dir(passenger1)"
   ]
  },
  {
   "cell_type": "markdown",
   "metadata": {},
   "source": [
    "Great work!"
   ]
  },
  {
   "cell_type": "markdown",
   "metadata": {},
   "source": [
    "## Summary\n",
    "In this lab, we practiced defining classes, instance methods, and utilizing the property function to create, getter setter, and deleter properties so we could access and operate on our instance variables."
   ]
  }
 ],
 "metadata": {
  "kernelspec": {
   "display_name": "Python 3",
   "language": "python",
   "name": "python3"
  },
  "language_info": {
   "codemirror_mode": {
    "name": "ipython",
    "version": 3
   },
   "file_extension": ".py",
   "mimetype": "text/x-python",
   "name": "python",
   "nbconvert_exporter": "python",
   "pygments_lexer": "ipython3",
   "version": "3.6.5"
  }
 },
 "nbformat": 4,
 "nbformat_minor": 2
}
